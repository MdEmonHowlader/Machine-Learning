{
 "cells": [
  {
   "cell_type": "markdown",
   "id": "3a23749f-024f-40b7-b9f2-26a72b717b98",
   "metadata": {},
   "source": [
    "# Stratified Sampling Using Titanic Dataset (Bonus Assignment)"
   ]
  },
  {
   "cell_type": "markdown",
   "id": "7d13c81a-3bcc-44f8-8a08-c97cc3f7b57a",
   "metadata": {},
   "source": [
    "## You will use the Titanic dataset to apply Stratified Sampling."
   ]
  },
  {
   "cell_type": "markdown",
   "id": "e02a376a-ebaa-461d-8264-ab9aa12e4317",
   "metadata": {},
   "source": [
    "### Data: https://www.kaggle.com/competitions/titanic/overview"
   ]
  },
  {
   "cell_type": "markdown",
   "id": "389ac6a2",
   "metadata": {},
   "source": []
  },
  {
   "cell_type": "markdown",
   "id": "9473efc8-fc3e-4d3c-ae3e-d5f1308407b7",
   "metadata": {},
   "source": [
    "## Task 1: Load and Explore the Titanic Dataset\n",
    "### Display the first few rows of the dataset to get an overview of the structure.\n",
    "### Generate summary statistics for the numerical columns."
   ]
  },
  {
   "cell_type": "code",
   "execution_count": 2,
   "id": "0f903168-63ba-4e71-a40f-1683b3883c5c",
   "metadata": {},
   "outputs": [
    {
     "data": {
      "text/html": [
       "<div>\n",
       "<style scoped>\n",
       "    .dataframe tbody tr th:only-of-type {\n",
       "        vertical-align: middle;\n",
       "    }\n",
       "\n",
       "    .dataframe tbody tr th {\n",
       "        vertical-align: top;\n",
       "    }\n",
       "\n",
       "    .dataframe thead th {\n",
       "        text-align: right;\n",
       "    }\n",
       "</style>\n",
       "<table border=\"1\" class=\"dataframe\">\n",
       "  <thead>\n",
       "    <tr style=\"text-align: right;\">\n",
       "      <th></th>\n",
       "      <th>PassengerId</th>\n",
       "      <th>Survived</th>\n",
       "    </tr>\n",
       "  </thead>\n",
       "  <tbody>\n",
       "    <tr>\n",
       "      <th>count</th>\n",
       "      <td>418.000000</td>\n",
       "      <td>418.000000</td>\n",
       "    </tr>\n",
       "    <tr>\n",
       "      <th>mean</th>\n",
       "      <td>1100.500000</td>\n",
       "      <td>0.363636</td>\n",
       "    </tr>\n",
       "    <tr>\n",
       "      <th>std</th>\n",
       "      <td>120.810458</td>\n",
       "      <td>0.481622</td>\n",
       "    </tr>\n",
       "    <tr>\n",
       "      <th>min</th>\n",
       "      <td>892.000000</td>\n",
       "      <td>0.000000</td>\n",
       "    </tr>\n",
       "    <tr>\n",
       "      <th>25%</th>\n",
       "      <td>996.250000</td>\n",
       "      <td>0.000000</td>\n",
       "    </tr>\n",
       "    <tr>\n",
       "      <th>50%</th>\n",
       "      <td>1100.500000</td>\n",
       "      <td>0.000000</td>\n",
       "    </tr>\n",
       "    <tr>\n",
       "      <th>75%</th>\n",
       "      <td>1204.750000</td>\n",
       "      <td>1.000000</td>\n",
       "    </tr>\n",
       "    <tr>\n",
       "      <th>max</th>\n",
       "      <td>1309.000000</td>\n",
       "      <td>1.000000</td>\n",
       "    </tr>\n",
       "  </tbody>\n",
       "</table>\n",
       "</div>"
      ],
      "text/plain": [
       "       PassengerId    Survived\n",
       "count   418.000000  418.000000\n",
       "mean   1100.500000    0.363636\n",
       "std     120.810458    0.481622\n",
       "min     892.000000    0.000000\n",
       "25%     996.250000    0.000000\n",
       "50%    1100.500000    0.000000\n",
       "75%    1204.750000    1.000000\n",
       "max    1309.000000    1.000000"
      ]
     },
     "execution_count": 2,
     "metadata": {},
     "output_type": "execute_result"
    }
   ],
   "source": [
    "import pandas as pd\n",
    "\n",
    "df = pd.read_csv(\"gender_submission.csv\")  \n",
    "\n",
    "df.head()\n",
    "\n",
    "df.describe()"
   ]
  },
  {
   "cell_type": "code",
   "execution_count": null,
   "id": "9a952c76-970d-4978-af7e-a07622e31dac",
   "metadata": {},
   "outputs": [],
   "source": []
  },
  {
   "cell_type": "markdown",
   "id": "834ebfac-72e4-4269-b616-28250bdd6b2a",
   "metadata": {},
   "source": [
    "## Task 2: Identify the Strata"
   ]
  },
  {
   "cell_type": "code",
   "execution_count": 5,
   "id": "706a08e6-fb03-4b42-b3aa-b42a718888c7",
   "metadata": {},
   "outputs": [
    {
     "name": "stdout",
     "output_type": "stream",
     "text": [
      "Index(['PassengerId', 'Survived'], dtype='object')\n"
     ]
    }
   ],
   "source": [
    "print(df.columns)\n"
   ]
  },
  {
   "cell_type": "code",
   "execution_count": 6,
   "id": "0a983b42-d1e6-480f-98ca-4bf124aa3cee",
   "metadata": {},
   "outputs": [
    {
     "name": "stdout",
     "output_type": "stream",
     "text": [
      "Survived\n",
      "0    266\n",
      "1    152\n",
      "Name: count, dtype: int64\n"
     ]
    }
   ],
   "source": [
    "print(df['Survived'].value_counts())"
   ]
  },
  {
   "cell_type": "code",
   "execution_count": 7,
   "id": "23ce525b-f4cc-4363-ae3c-36151ebccdba",
   "metadata": {},
   "outputs": [
    {
     "name": "stdout",
     "output_type": "stream",
     "text": [
      "PassengerId\n",
      "892     1\n",
      "1205    1\n",
      "1177    1\n",
      "1176    1\n",
      "1175    1\n",
      "       ..\n",
      "1028    1\n",
      "1027    1\n",
      "1026    1\n",
      "1025    1\n",
      "1309    1\n",
      "Name: count, Length: 418, dtype: int64\n"
     ]
    }
   ],
   "source": [
    "print(df['PassengerId'].value_counts())"
   ]
  },
  {
   "cell_type": "code",
   "execution_count": 8,
   "id": "63678c5a-ca8a-4d2f-9f9c-d7d5ede154ca",
   "metadata": {},
   "outputs": [
    {
     "data": {
      "text/html": [
       "<div>\n",
       "<style scoped>\n",
       "    .dataframe tbody tr th:only-of-type {\n",
       "        vertical-align: middle;\n",
       "    }\n",
       "\n",
       "    .dataframe tbody tr th {\n",
       "        vertical-align: top;\n",
       "    }\n",
       "\n",
       "    .dataframe thead th {\n",
       "        text-align: right;\n",
       "    }\n",
       "</style>\n",
       "<table border=\"1\" class=\"dataframe\">\n",
       "  <thead>\n",
       "    <tr style=\"text-align: right;\">\n",
       "      <th></th>\n",
       "      <th>PassengerId</th>\n",
       "      <th>Survived</th>\n",
       "    </tr>\n",
       "  </thead>\n",
       "  <tbody>\n",
       "    <tr>\n",
       "      <th>PassengerId</th>\n",
       "      <td>1.000000</td>\n",
       "      <td>-0.023245</td>\n",
       "    </tr>\n",
       "    <tr>\n",
       "      <th>Survived</th>\n",
       "      <td>-0.023245</td>\n",
       "      <td>1.000000</td>\n",
       "    </tr>\n",
       "  </tbody>\n",
       "</table>\n",
       "</div>"
      ],
      "text/plain": [
       "             PassengerId  Survived\n",
       "PassengerId     1.000000 -0.023245\n",
       "Survived       -0.023245  1.000000"
      ]
     },
     "execution_count": 8,
     "metadata": {},
     "output_type": "execute_result"
    }
   ],
   "source": [
    "df.corr()"
   ]
  },
  {
   "cell_type": "code",
   "execution_count": null,
   "id": "45c61f93-5c31-4768-aa44-97ca63d7eb9e",
   "metadata": {},
   "outputs": [],
   "source": []
  },
  {
   "cell_type": "code",
   "execution_count": null,
   "id": "2bdec0ec-524b-4d73-98d2-7b0e7ed94d04",
   "metadata": {},
   "outputs": [],
   "source": []
  },
  {
   "cell_type": "code",
   "execution_count": null,
   "id": "271f4ac5-4579-4efe-a832-aeb90864e225",
   "metadata": {},
   "outputs": [],
   "source": []
  },
  {
   "cell_type": "markdown",
   "id": "da49b46d-bd01-4bed-98b6-09720471f295",
   "metadata": {},
   "source": [
    "## Task 3: Implement Stratified Sampling"
   ]
  },
  {
   "cell_type": "code",
   "execution_count": 9,
   "id": "3d309794-450e-4a04-8c4c-82242839f2e7",
   "metadata": {},
   "outputs": [],
   "source": [
    "from sklearn.model_selection import train_test_split"
   ]
  },
  {
   "cell_type": "code",
   "execution_count": 10,
   "id": "b8a9a28c-ed4d-4877-9f2d-80ae6f082f0a",
   "metadata": {},
   "outputs": [],
   "source": [
    "train_set, test_set = train_test_split(df, test_size=0.2, stratify=df['Survived'], random_state=42)"
   ]
  },
  {
   "cell_type": "code",
   "execution_count": 11,
   "id": "79704995-2e1d-4513-82a7-7b3c17c44020",
   "metadata": {},
   "outputs": [
    {
     "name": "stdout",
     "output_type": "stream",
     "text": [
      "Survived\n",
      "0    0.637725\n",
      "1    0.362275\n",
      "Name: count, dtype: float64\n"
     ]
    }
   ],
   "source": [
    "print(train_set['Survived'].value_counts() / len(train_set))"
   ]
  },
  {
   "cell_type": "code",
   "execution_count": 12,
   "id": "6a9a40b9-b304-43c1-b663-4fbd309d444d",
   "metadata": {},
   "outputs": [
    {
     "name": "stdout",
     "output_type": "stream",
     "text": [
      "Survived\n",
      "0    0.630952\n",
      "1    0.369048\n",
      "Name: count, dtype: float64\n"
     ]
    }
   ],
   "source": [
    "print(test_set['Survived'].value_counts() / len(test_set))"
   ]
  },
  {
   "cell_type": "markdown",
   "id": "32b9950a-261b-4a45-a8df-2abb50e90542",
   "metadata": {},
   "source": [
    "### Task 4: Summary "
   ]
  },
  {
   "cell_type": "code",
   "execution_count": 14,
   "id": "16073ce6-52e8-4571-b754-e2270c40424b",
   "metadata": {},
   "outputs": [],
   "source": [
    "original_distribution = df['Survived'].value_counts() / len(df)\n",
    "train_distribution = train_set['Survived'].value_counts() / len(train_set)\n",
    "test_distribution = test_set['Survived'].value_counts() / len(test_set)"
   ]
  },
  {
   "cell_type": "code",
   "execution_count": 15,
   "id": "236cc139-6908-4a76-8bf3-9afa447bc0b4",
   "metadata": {},
   "outputs": [
    {
     "name": "stdout",
     "output_type": "stream",
     "text": [
      "Original Distribution:\n",
      " Survived\n",
      "0    0.636364\n",
      "1    0.363636\n",
      "Name: count, dtype: float64\n"
     ]
    }
   ],
   "source": [
    "print(\"Original Distribution:\\n\", original_distribution)"
   ]
  },
  {
   "cell_type": "code",
   "execution_count": 16,
   "id": "1f5aefe4-6390-44ea-add0-917ce20fa11c",
   "metadata": {},
   "outputs": [
    {
     "name": "stdout",
     "output_type": "stream",
     "text": [
      "\n",
      "Training Set Distribution:\n",
      " Survived\n",
      "0    0.637725\n",
      "1    0.362275\n",
      "Name: count, dtype: float64\n"
     ]
    }
   ],
   "source": [
    "print(\"\\nTraining Set Distribution:\\n\", train_distribution)"
   ]
  },
  {
   "cell_type": "code",
   "execution_count": 17,
   "id": "7355005b-6286-49ae-85d8-250e7052bb44",
   "metadata": {},
   "outputs": [
    {
     "name": "stdout",
     "output_type": "stream",
     "text": [
      "\n",
      "Test Set Distribution:\n",
      " Survived\n",
      "0    0.630952\n",
      "1    0.369048\n",
      "Name: count, dtype: float64\n"
     ]
    }
   ],
   "source": [
    "print(\"\\nTest Set Distribution:\\n\", test_distribution)"
   ]
  }
 ],
 "metadata": {
  "kernelspec": {
   "display_name": "Python 3 (ipykernel)",
   "language": "python",
   "name": "python3"
  },
  "language_info": {
   "codemirror_mode": {
    "name": "ipython",
    "version": 3
   },
   "file_extension": ".py",
   "mimetype": "text/x-python",
   "name": "python",
   "nbconvert_exporter": "python",
   "pygments_lexer": "ipython3",
   "version": "3.12.3"
  }
 },
 "nbformat": 4,
 "nbformat_minor": 5
}
